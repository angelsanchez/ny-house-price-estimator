{
 "cells": [
  {
   "cell_type": "markdown",
   "id": "romance-scientist",
   "metadata": {},
   "source": [
    "# Exploratory data analysis"
   ]
  },
  {
   "cell_type": "code",
   "execution_count": 1,
   "id": "latin-framing",
   "metadata": {},
   "outputs": [],
   "source": [
    "import os\n",
    "from pathlib import Path\n",
    "\n",
    "import numpy as np\n",
    "import pandas as pd\n",
    "from pandas import DataFrame\n",
    "from matplotlib import pyplot as plt"
   ]
  },
  {
   "cell_type": "markdown",
   "id": "opened-pepper",
   "metadata": {},
   "source": [
    "## Access data from Minio"
   ]
  },
  {
   "cell_type": "markdown",
   "id": "adequate-forestry",
   "metadata": {},
   "source": [
    "Raw data for the project was uploaded to Minio. From Jupyter and VSCode, we can access it via the mounted `shared-storage` volume:"
   ]
  },
  {
   "cell_type": "code",
   "execution_count": 2,
   "id": "equal-minnesota",
   "metadata": {},
   "outputs": [],
   "source": [
    "DIR_MINIO = \"../../../../shared-storage/ny-price-estimator/data\"\n",
    "DIR_DATA_RAW = Path(DIR_MINIO) / \"base\"\n",
    "DIR_DATA_PROCESSED = Path(DIR_MINIO) / \"created\""
   ]
  },
  {
   "cell_type": "code",
   "execution_count": 3,
   "id": "surprising-satin",
   "metadata": {},
   "outputs": [
    {
     "data": {
      "text/plain": [
       "['listings.csv']"
      ]
     },
     "execution_count": 3,
     "metadata": {},
     "output_type": "execute_result"
    }
   ],
   "source": [
    "os.listdir(DIR_DATA_RAW)"
   ]
  },
  {
   "cell_type": "markdown",
   "id": "ecological-treaty",
   "metadata": {},
   "source": [
    "^ This is the file as downloaded from [Inside Airbnb](http://insideairbnb.com/get-the-data.html) under the Creative Commons Universal licence (CC0 1.0)."
   ]
  },
  {
   "cell_type": "code",
   "execution_count": 4,
   "id": "quality-briefs",
   "metadata": {},
   "outputs": [],
   "source": [
    "FILEPATH_DATA = DIR_DATA_RAW / \"listings.csv\""
   ]
  },
  {
   "cell_type": "code",
   "execution_count": 5,
   "id": "plain-formation",
   "metadata": {},
   "outputs": [
    {
     "name": "stderr",
     "output_type": "stream",
     "text": [
      "/usr/local/lib/python3.7/dist-packages/IPython/core/interactiveshell.py:3147: DtypeWarning: Columns (43,87,88) have mixed types.Specify dtype option on import or set low_memory=False.\n",
      "  interactivity=interactivity, compiler=compiler, result=result)\n"
     ]
    },
    {
     "data": {
      "text/html": [
       "<div>\n",
       "<style scoped>\n",
       "    .dataframe tbody tr th:only-of-type {\n",
       "        vertical-align: middle;\n",
       "    }\n",
       "\n",
       "    .dataframe tbody tr th {\n",
       "        vertical-align: top;\n",
       "    }\n",
       "\n",
       "    .dataframe thead th {\n",
       "        text-align: right;\n",
       "    }\n",
       "</style>\n",
       "<table border=\"1\" class=\"dataframe\">\n",
       "  <thead>\n",
       "    <tr style=\"text-align: right;\">\n",
       "      <th></th>\n",
       "      <th>id</th>\n",
       "      <th>listing_url</th>\n",
       "      <th>scrape_id</th>\n",
       "      <th>last_scraped</th>\n",
       "      <th>name</th>\n",
       "      <th>summary</th>\n",
       "      <th>space</th>\n",
       "      <th>description</th>\n",
       "      <th>experiences_offered</th>\n",
       "      <th>neighborhood_overview</th>\n",
       "      <th>...</th>\n",
       "      <th>requires_license</th>\n",
       "      <th>license</th>\n",
       "      <th>jurisdiction_names</th>\n",
       "      <th>instant_bookable</th>\n",
       "      <th>is_business_travel_ready</th>\n",
       "      <th>cancellation_policy</th>\n",
       "      <th>require_guest_profile_picture</th>\n",
       "      <th>require_guest_phone_verification</th>\n",
       "      <th>calculated_host_listings_count</th>\n",
       "      <th>reviews_per_month</th>\n",
       "    </tr>\n",
       "  </thead>\n",
       "  <tbody>\n",
       "    <tr>\n",
       "      <th>0</th>\n",
       "      <td>15509</td>\n",
       "      <td>https://www.airbnb.com/rooms/15509</td>\n",
       "      <td>20181103152857</td>\n",
       "      <td>2018-11-04</td>\n",
       "      <td>Sleep at the CozySuite Sanctuary</td>\n",
       "      <td>Self catering lodging / vacation rental   --fu...</td>\n",
       "      <td>We welcome travelers to CozySuite to sleep by ...</td>\n",
       "      <td>Self catering lodging / vacation rental   --fu...</td>\n",
       "      <td>none</td>\n",
       "      <td>NaN</td>\n",
       "      <td>...</td>\n",
       "      <td>f</td>\n",
       "      <td>NaN</td>\n",
       "      <td>NaN</td>\n",
       "      <td>t</td>\n",
       "      <td>f</td>\n",
       "      <td>strict_14_with_grace_period</td>\n",
       "      <td>f</td>\n",
       "      <td>f</td>\n",
       "      <td>7</td>\n",
       "      <td>0.13</td>\n",
       "    </tr>\n",
       "    <tr>\n",
       "      <th>1</th>\n",
       "      <td>2515</td>\n",
       "      <td>https://www.airbnb.com/rooms/2515</td>\n",
       "      <td>20181103152857</td>\n",
       "      <td>2018-11-04</td>\n",
       "      <td>Stay at Chez Chic budget room #1</td>\n",
       "      <td>Step into our artistic spacious apartment and ...</td>\n",
       "      <td>-PLEASE BOOK DIRECTLY. NO NEED TO SEND A REQUE...</td>\n",
       "      <td>Step into our artistic spacious apartment and ...</td>\n",
       "      <td>none</td>\n",
       "      <td>NaN</td>\n",
       "      <td>...</td>\n",
       "      <td>f</td>\n",
       "      <td>NaN</td>\n",
       "      <td>NaN</td>\n",
       "      <td>f</td>\n",
       "      <td>f</td>\n",
       "      <td>strict_14_with_grace_period</td>\n",
       "      <td>f</td>\n",
       "      <td>f</td>\n",
       "      <td>3</td>\n",
       "      <td>1.42</td>\n",
       "    </tr>\n",
       "    <tr>\n",
       "      <th>2</th>\n",
       "      <td>2539</td>\n",
       "      <td>https://www.airbnb.com/rooms/2539</td>\n",
       "      <td>20181103152857</td>\n",
       "      <td>2018-11-04</td>\n",
       "      <td>Clean &amp; quiet apt home by the park</td>\n",
       "      <td>Renovated apt home in elevator building.</td>\n",
       "      <td>Spacious, renovated, and clean apt home, one b...</td>\n",
       "      <td>Renovated apt home in elevator building. Spaci...</td>\n",
       "      <td>none</td>\n",
       "      <td>Close to Prospect Park and Historic Ditmas Park</td>\n",
       "      <td>...</td>\n",
       "      <td>f</td>\n",
       "      <td>NaN</td>\n",
       "      <td>NaN</td>\n",
       "      <td>f</td>\n",
       "      <td>f</td>\n",
       "      <td>moderate</td>\n",
       "      <td>f</td>\n",
       "      <td>f</td>\n",
       "      <td>8</td>\n",
       "      <td>0.25</td>\n",
       "    </tr>\n",
       "    <tr>\n",
       "      <th>3</th>\n",
       "      <td>2595</td>\n",
       "      <td>https://www.airbnb.com/rooms/2595</td>\n",
       "      <td>20181103152857</td>\n",
       "      <td>2018-11-04</td>\n",
       "      <td>Skylit Midtown Castle</td>\n",
       "      <td>Find your romantic getaway to this beautiful, ...</td>\n",
       "      <td>- Spacious (500+ft²), immaculate and nicely fu...</td>\n",
       "      <td>Find your romantic getaway to this beautiful, ...</td>\n",
       "      <td>none</td>\n",
       "      <td>Centrally located in the heart of Manhattan ju...</td>\n",
       "      <td>...</td>\n",
       "      <td>f</td>\n",
       "      <td>NaN</td>\n",
       "      <td>NaN</td>\n",
       "      <td>f</td>\n",
       "      <td>f</td>\n",
       "      <td>strict_14_with_grace_period</td>\n",
       "      <td>t</td>\n",
       "      <td>t</td>\n",
       "      <td>2</td>\n",
       "      <td>0.35</td>\n",
       "    </tr>\n",
       "    <tr>\n",
       "      <th>4</th>\n",
       "      <td>15729</td>\n",
       "      <td>https://www.airbnb.com/rooms/15729</td>\n",
       "      <td>20181103152857</td>\n",
       "      <td>2018-11-04</td>\n",
       "      <td>Village Green</td>\n",
       "      <td>NaN</td>\n",
       "      <td>Beautiful bedroom in a duplex house with large...</td>\n",
       "      <td>Beautiful bedroom in a duplex house with large...</td>\n",
       "      <td>none</td>\n",
       "      <td>NaN</td>\n",
       "      <td>...</td>\n",
       "      <td>f</td>\n",
       "      <td>NaN</td>\n",
       "      <td>NaN</td>\n",
       "      <td>f</td>\n",
       "      <td>f</td>\n",
       "      <td>strict_14_with_grace_period</td>\n",
       "      <td>f</td>\n",
       "      <td>f</td>\n",
       "      <td>3</td>\n",
       "      <td>0.21</td>\n",
       "    </tr>\n",
       "  </tbody>\n",
       "</table>\n",
       "<p>5 rows × 96 columns</p>\n",
       "</div>"
      ],
      "text/plain": [
       "      id                         listing_url       scrape_id last_scraped  \\\n",
       "0  15509  https://www.airbnb.com/rooms/15509  20181103152857   2018-11-04   \n",
       "1   2515   https://www.airbnb.com/rooms/2515  20181103152857   2018-11-04   \n",
       "2   2539   https://www.airbnb.com/rooms/2539  20181103152857   2018-11-04   \n",
       "3   2595   https://www.airbnb.com/rooms/2595  20181103152857   2018-11-04   \n",
       "4  15729  https://www.airbnb.com/rooms/15729  20181103152857   2018-11-04   \n",
       "\n",
       "                                 name  \\\n",
       "0    Sleep at the CozySuite Sanctuary   \n",
       "1    Stay at Chez Chic budget room #1   \n",
       "2  Clean & quiet apt home by the park   \n",
       "3               Skylit Midtown Castle   \n",
       "4                       Village Green   \n",
       "\n",
       "                                             summary  \\\n",
       "0  Self catering lodging / vacation rental   --fu...   \n",
       "1  Step into our artistic spacious apartment and ...   \n",
       "2           Renovated apt home in elevator building.   \n",
       "3  Find your romantic getaway to this beautiful, ...   \n",
       "4                                                NaN   \n",
       "\n",
       "                                               space  \\\n",
       "0  We welcome travelers to CozySuite to sleep by ...   \n",
       "1  -PLEASE BOOK DIRECTLY. NO NEED TO SEND A REQUE...   \n",
       "2  Spacious, renovated, and clean apt home, one b...   \n",
       "3  - Spacious (500+ft²), immaculate and nicely fu...   \n",
       "4  Beautiful bedroom in a duplex house with large...   \n",
       "\n",
       "                                         description experiences_offered  \\\n",
       "0  Self catering lodging / vacation rental   --fu...                none   \n",
       "1  Step into our artistic spacious apartment and ...                none   \n",
       "2  Renovated apt home in elevator building. Spaci...                none   \n",
       "3  Find your romantic getaway to this beautiful, ...                none   \n",
       "4  Beautiful bedroom in a duplex house with large...                none   \n",
       "\n",
       "                               neighborhood_overview  ... requires_license  \\\n",
       "0                                                NaN  ...                f   \n",
       "1                                                NaN  ...                f   \n",
       "2    Close to Prospect Park and Historic Ditmas Park  ...                f   \n",
       "3  Centrally located in the heart of Manhattan ju...  ...                f   \n",
       "4                                                NaN  ...                f   \n",
       "\n",
       "  license jurisdiction_names instant_bookable is_business_travel_ready  \\\n",
       "0     NaN                NaN                t                        f   \n",
       "1     NaN                NaN                f                        f   \n",
       "2     NaN                NaN                f                        f   \n",
       "3     NaN                NaN                f                        f   \n",
       "4     NaN                NaN                f                        f   \n",
       "\n",
       "           cancellation_policy  require_guest_profile_picture  \\\n",
       "0  strict_14_with_grace_period                              f   \n",
       "1  strict_14_with_grace_period                              f   \n",
       "2                     moderate                              f   \n",
       "3  strict_14_with_grace_period                              t   \n",
       "4  strict_14_with_grace_period                              f   \n",
       "\n",
       "  require_guest_phone_verification  calculated_host_listings_count  \\\n",
       "0                                f                               7   \n",
       "1                                f                               3   \n",
       "2                                f                               8   \n",
       "3                                t                               2   \n",
       "4                                f                               3   \n",
       "\n",
       "   reviews_per_month  \n",
       "0               0.13  \n",
       "1               1.42  \n",
       "2               0.25  \n",
       "3               0.35  \n",
       "4               0.21  \n",
       "\n",
       "[5 rows x 96 columns]"
      ]
     },
     "execution_count": 5,
     "metadata": {},
     "output_type": "execute_result"
    }
   ],
   "source": [
    "df_raw = pd.read_csv(FILEPATH_DATA)\n",
    "df_raw.head()"
   ]
  },
  {
   "cell_type": "markdown",
   "id": "humanitarian-calibration",
   "metadata": {},
   "source": [
    "## Explore data processing"
   ]
  },
  {
   "cell_type": "code",
   "execution_count": 6,
   "id": "beneficial-white",
   "metadata": {},
   "outputs": [
    {
     "data": {
      "text/plain": [
       "(50968, 96)"
      ]
     },
     "execution_count": 6,
     "metadata": {},
     "output_type": "execute_result"
    }
   ],
   "source": [
    "df_raw.shape"
   ]
  },
  {
   "cell_type": "markdown",
   "id": "boring-equipment",
   "metadata": {},
   "source": [
    "### Select columns"
   ]
  },
  {
   "cell_type": "code",
   "execution_count": 7,
   "id": "usual-poison",
   "metadata": {},
   "outputs": [
    {
     "data": {
      "text/plain": [
       "Index(['id', 'listing_url', 'scrape_id', 'last_scraped', 'name', 'summary',\n",
       "       'space', 'description', 'experiences_offered', 'neighborhood_overview',\n",
       "       'notes', 'transit', 'access', 'interaction', 'house_rules',\n",
       "       'thumbnail_url', 'medium_url', 'picture_url', 'xl_picture_url',\n",
       "       'host_id', 'host_url', 'host_name', 'host_since', 'host_location',\n",
       "       'host_about', 'host_response_time', 'host_response_rate',\n",
       "       'host_acceptance_rate', 'host_is_superhost', 'host_thumbnail_url',\n",
       "       'host_picture_url', 'host_neighbourhood', 'host_listings_count',\n",
       "       'host_total_listings_count', 'host_verifications',\n",
       "       'host_has_profile_pic', 'host_identity_verified', 'street',\n",
       "       'neighbourhood', 'neighbourhood_cleansed',\n",
       "       'neighbourhood_group_cleansed', 'city', 'state', 'zipcode', 'market',\n",
       "       'smart_location', 'country_code', 'country', 'latitude', 'longitude',\n",
       "       'is_location_exact', 'property_type', 'room_type', 'accommodates',\n",
       "       'bathrooms', 'bedrooms', 'beds', 'bed_type', 'amenities', 'square_feet',\n",
       "       'price', 'weekly_price', 'monthly_price', 'security_deposit',\n",
       "       'cleaning_fee', 'guests_included', 'extra_people', 'minimum_nights',\n",
       "       'maximum_nights', 'calendar_updated', 'has_availability',\n",
       "       'availability_30', 'availability_60', 'availability_90',\n",
       "       'availability_365', 'calendar_last_scraped', 'number_of_reviews',\n",
       "       'first_review', 'last_review', 'review_scores_rating',\n",
       "       'review_scores_accuracy', 'review_scores_cleanliness',\n",
       "       'review_scores_checkin', 'review_scores_communication',\n",
       "       'review_scores_location', 'review_scores_value', 'requires_license',\n",
       "       'license', 'jurisdiction_names', 'instant_bookable',\n",
       "       'is_business_travel_ready', 'cancellation_policy',\n",
       "       'require_guest_profile_picture', 'require_guest_phone_verification',\n",
       "       'calculated_host_listings_count', 'reviews_per_month'],\n",
       "      dtype='object')"
      ]
     },
     "execution_count": 7,
     "metadata": {},
     "output_type": "execute_result"
    }
   ],
   "source": [
    "df_raw.columns"
   ]
  },
  {
   "cell_type": "markdown",
   "id": "fifth-teacher",
   "metadata": {},
   "source": [
    "For an initial model, we are only going to use a small subset of the columns."
   ]
  },
  {
   "cell_type": "code",
   "execution_count": 8,
   "id": "deluxe-debut",
   "metadata": {},
   "outputs": [],
   "source": [
    "COLUMNS = ['id', 'neighbourhood_group_cleansed', 'property_type', 'room_type', 'zipcode', 'latitude', 'longitude', 'accommodates', 'bathrooms', 'bedrooms', 'beds', 'bed_type', 'amenities', 'price']"
   ]
  },
  {
   "cell_type": "code",
   "execution_count": 9,
   "id": "divine-dress",
   "metadata": {},
   "outputs": [
    {
     "data": {
      "text/html": [
       "<div>\n",
       "<style scoped>\n",
       "    .dataframe tbody tr th:only-of-type {\n",
       "        vertical-align: middle;\n",
       "    }\n",
       "\n",
       "    .dataframe tbody tr th {\n",
       "        vertical-align: top;\n",
       "    }\n",
       "\n",
       "    .dataframe thead th {\n",
       "        text-align: right;\n",
       "    }\n",
       "</style>\n",
       "<table border=\"1\" class=\"dataframe\">\n",
       "  <thead>\n",
       "    <tr style=\"text-align: right;\">\n",
       "      <th></th>\n",
       "      <th>id</th>\n",
       "      <th>neighbourhood</th>\n",
       "      <th>property_type</th>\n",
       "      <th>room_type</th>\n",
       "      <th>zipcode</th>\n",
       "      <th>latitude</th>\n",
       "      <th>longitude</th>\n",
       "      <th>accommodates</th>\n",
       "      <th>bathrooms</th>\n",
       "      <th>bedrooms</th>\n",
       "      <th>beds</th>\n",
       "      <th>bed_type</th>\n",
       "      <th>amenities</th>\n",
       "      <th>price</th>\n",
       "    </tr>\n",
       "  </thead>\n",
       "  <tbody>\n",
       "    <tr>\n",
       "      <th>0</th>\n",
       "      <td>15509</td>\n",
       "      <td>Brooklyn</td>\n",
       "      <td>Apartment</td>\n",
       "      <td>Private room</td>\n",
       "      <td>11221</td>\n",
       "      <td>40.685384</td>\n",
       "      <td>-73.932709</td>\n",
       "      <td>2</td>\n",
       "      <td>NaN</td>\n",
       "      <td>1.0</td>\n",
       "      <td>1.0</td>\n",
       "      <td>Real Bed</td>\n",
       "      <td>{TV,\"Cable TV\",Wifi,Kitchen,Heating,\"Lock on b...</td>\n",
       "      <td>$59.00</td>\n",
       "    </tr>\n",
       "    <tr>\n",
       "      <th>1</th>\n",
       "      <td>2515</td>\n",
       "      <td>Manhattan</td>\n",
       "      <td>Apartment</td>\n",
       "      <td>Private room</td>\n",
       "      <td>10026</td>\n",
       "      <td>40.799205</td>\n",
       "      <td>-73.953676</td>\n",
       "      <td>3</td>\n",
       "      <td>1.0</td>\n",
       "      <td>1.0</td>\n",
       "      <td>3.0</td>\n",
       "      <td>Real Bed</td>\n",
       "      <td>{TV,\"Cable TV\",Internet,Wifi,\"Air conditioning...</td>\n",
       "      <td>$59.00</td>\n",
       "    </tr>\n",
       "    <tr>\n",
       "      <th>2</th>\n",
       "      <td>2539</td>\n",
       "      <td>Brooklyn</td>\n",
       "      <td>Apartment</td>\n",
       "      <td>Private room</td>\n",
       "      <td>11218</td>\n",
       "      <td>40.647486</td>\n",
       "      <td>-73.972370</td>\n",
       "      <td>4</td>\n",
       "      <td>1.0</td>\n",
       "      <td>1.0</td>\n",
       "      <td>3.0</td>\n",
       "      <td>Real Bed</td>\n",
       "      <td>{TV,\"Cable TV\",Internet,Wifi,\"Wheelchair acces...</td>\n",
       "      <td>$149.00</td>\n",
       "    </tr>\n",
       "    <tr>\n",
       "      <th>3</th>\n",
       "      <td>2595</td>\n",
       "      <td>Manhattan</td>\n",
       "      <td>Apartment</td>\n",
       "      <td>Entire home/apt</td>\n",
       "      <td>10018</td>\n",
       "      <td>40.753621</td>\n",
       "      <td>-73.983774</td>\n",
       "      <td>2</td>\n",
       "      <td>1.0</td>\n",
       "      <td>0.0</td>\n",
       "      <td>1.0</td>\n",
       "      <td>Real Bed</td>\n",
       "      <td>{TV,Wifi,\"Air conditioning\",Kitchen,\"Paid park...</td>\n",
       "      <td>$225.00</td>\n",
       "    </tr>\n",
       "    <tr>\n",
       "      <th>4</th>\n",
       "      <td>15729</td>\n",
       "      <td>Brooklyn</td>\n",
       "      <td>House</td>\n",
       "      <td>Private room</td>\n",
       "      <td>11231</td>\n",
       "      <td>40.676947</td>\n",
       "      <td>-74.011209</td>\n",
       "      <td>4</td>\n",
       "      <td>1.0</td>\n",
       "      <td>1.0</td>\n",
       "      <td>1.0</td>\n",
       "      <td>Real Bed</td>\n",
       "      <td>{Wifi,\"Air conditioning\",Kitchen,\"Pets allowed...</td>\n",
       "      <td>$89.00</td>\n",
       "    </tr>\n",
       "  </tbody>\n",
       "</table>\n",
       "</div>"
      ],
      "text/plain": [
       "      id neighbourhood property_type        room_type zipcode   latitude  \\\n",
       "0  15509      Brooklyn     Apartment     Private room   11221  40.685384   \n",
       "1   2515     Manhattan     Apartment     Private room   10026  40.799205   \n",
       "2   2539      Brooklyn     Apartment     Private room   11218  40.647486   \n",
       "3   2595     Manhattan     Apartment  Entire home/apt   10018  40.753621   \n",
       "4  15729      Brooklyn         House     Private room   11231  40.676947   \n",
       "\n",
       "   longitude  accommodates  bathrooms  bedrooms  beds  bed_type  \\\n",
       "0 -73.932709             2        NaN       1.0   1.0  Real Bed   \n",
       "1 -73.953676             3        1.0       1.0   3.0  Real Bed   \n",
       "2 -73.972370             4        1.0       1.0   3.0  Real Bed   \n",
       "3 -73.983774             2        1.0       0.0   1.0  Real Bed   \n",
       "4 -74.011209             4        1.0       1.0   1.0  Real Bed   \n",
       "\n",
       "                                           amenities    price  \n",
       "0  {TV,\"Cable TV\",Wifi,Kitchen,Heating,\"Lock on b...   $59.00  \n",
       "1  {TV,\"Cable TV\",Internet,Wifi,\"Air conditioning...   $59.00  \n",
       "2  {TV,\"Cable TV\",Internet,Wifi,\"Wheelchair acces...  $149.00  \n",
       "3  {TV,Wifi,\"Air conditioning\",Kitchen,\"Paid park...  $225.00  \n",
       "4  {Wifi,\"Air conditioning\",Kitchen,\"Pets allowed...   $89.00  "
      ]
     },
     "execution_count": 9,
     "metadata": {},
     "output_type": "execute_result"
    }
   ],
   "source": [
    "df = df_raw[COLUMNS].copy()\n",
    "df.rename(columns={'neighbourhood_group_cleansed': 'neighbourhood'}, inplace=True)\n",
    "df.head()"
   ]
  },
  {
   "cell_type": "markdown",
   "id": "relative-configuration",
   "metadata": {},
   "source": [
    "### Check for missing values"
   ]
  },
  {
   "cell_type": "code",
   "execution_count": 10,
   "id": "lyric-lancaster",
   "metadata": {},
   "outputs": [
    {
     "data": {
      "text/plain": [
       "id                 0\n",
       "neighbourhood      0\n",
       "property_type      0\n",
       "room_type          0\n",
       "zipcode          779\n",
       "latitude           0\n",
       "longitude          0\n",
       "accommodates       0\n",
       "bathrooms         98\n",
       "bedrooms          56\n",
       "beds              61\n",
       "bed_type           0\n",
       "amenities          0\n",
       "price              0\n",
       "dtype: int64"
      ]
     },
     "execution_count": 10,
     "metadata": {},
     "output_type": "execute_result"
    }
   ],
   "source": [
    "df.isna().sum()"
   ]
  },
  {
   "cell_type": "code",
   "execution_count": 11,
   "id": "conservative-calcium",
   "metadata": {},
   "outputs": [],
   "source": [
    "df = df.dropna(axis=0)"
   ]
  },
  {
   "cell_type": "markdown",
   "id": "central-connectivity",
   "metadata": {},
   "source": [
    "### Check the target variable"
   ]
  },
  {
   "cell_type": "code",
   "execution_count": 12,
   "id": "duplicate-audience",
   "metadata": {},
   "outputs": [],
   "source": [
    "# Convert string to numeric\n",
    "df['price'] = df['price'].str.extract(r\"(\\d+).\")\n",
    "df['price'] = df['price'].astype(int)"
   ]
  },
  {
   "cell_type": "code",
   "execution_count": 13,
   "id": "fifty-coast",
   "metadata": {},
   "outputs": [
    {
     "data": {
      "text/plain": [
       "count    50015.000000\n",
       "mean       139.633770\n",
       "std        113.033383\n",
       "min          0.000000\n",
       "25%         68.500000\n",
       "50%        105.000000\n",
       "75%        175.000000\n",
       "max        999.000000\n",
       "Name: price, dtype: float64"
      ]
     },
     "execution_count": 13,
     "metadata": {},
     "output_type": "execute_result"
    }
   ],
   "source": [
    "# Summary statistics\n",
    "\n",
    "df['price'].describe()"
   ]
  },
  {
   "cell_type": "code",
   "execution_count": 14,
   "id": "academic-backup",
   "metadata": {},
   "outputs": [
    {
     "data": {
      "image/png": "[encoded data removed]",
      "text/plain": [
       "<Figure size 864x432 with 1 Axes>"
      ]
     },
     "metadata": {
      "needs_background": "light"
     },
     "output_type": "display_data"
    }
   ],
   "source": [
    "# Plot price distribution\n",
    "\n",
    "fontsize_labels = 12\n",
    "\n",
    "fig, ax = plt.subplots(figsize=(12, 6))\n",
    "ax.hist(df['price'], bins=range(0, max(df['price']), 10))\n",
    "ax.grid(alpha=0.2)\n",
    "ax.set_title('Price distribution', fontsize=fontsize_labels)\n",
    "ax.set_ylabel('Number of properties', fontsize=fontsize_labels)\n",
    "ax.set_xlabel('Price ($)', fontsize=fontsize_labels)\n",
    "plt.show()"
   ]
  },
  {
   "cell_type": "markdown",
   "id": "western-china",
   "metadata": {},
   "source": [
    "Remove the listings where price is between \\\\$0 and \\\\$10."
   ]
  },
  {
   "cell_type": "code",
   "execution_count": 15,
   "id": "understood-tanzania",
   "metadata": {},
   "outputs": [],
   "source": [
    "df = df[df['price'] >= 10]"
   ]
  },
  {
   "cell_type": "code",
   "execution_count": 16,
   "id": "civilian-purse",
   "metadata": {},
   "outputs": [
    {
     "ename": "NameError",
     "evalue": "name 'fontsize' is not defined",
     "output_type": "error",
     "traceback": [
      "\u001b[0;31m---------------------------------------------------------------------------\u001b[0m",
      "\u001b[0;31mNameError\u001b[0m                                 Traceback (most recent call last)",
      "\u001b[0;32m<ipython-input-16-1823a66ef908>\u001b[0m in \u001b[0;36m<module>\u001b[0;34m\u001b[0m\n\u001b[1;32m     12\u001b[0m     \u001b[0max\u001b[0m\u001b[0;34m.\u001b[0m\u001b[0mspines\u001b[0m\u001b[0;34m[\u001b[0m\u001b[0;34m'top'\u001b[0m\u001b[0;34m]\u001b[0m\u001b[0;34m.\u001b[0m\u001b[0mset_visible\u001b[0m\u001b[0;34m(\u001b[0m\u001b[0;32mFalse\u001b[0m\u001b[0;34m)\u001b[0m\u001b[0;34m\u001b[0m\u001b[0;34m\u001b[0m\u001b[0m\n\u001b[1;32m     13\u001b[0m     \u001b[0max\u001b[0m\u001b[0;34m.\u001b[0m\u001b[0mspines\u001b[0m\u001b[0;34m[\u001b[0m\u001b[0;34m'right'\u001b[0m\u001b[0;34m]\u001b[0m\u001b[0;34m.\u001b[0m\u001b[0mset_visible\u001b[0m\u001b[0;34m(\u001b[0m\u001b[0;32mFalse\u001b[0m\u001b[0;34m)\u001b[0m\u001b[0;34m\u001b[0m\u001b[0;34m\u001b[0m\u001b[0m\n\u001b[0;32m---> 14\u001b[0;31m     \u001b[0max\u001b[0m\u001b[0;34m.\u001b[0m\u001b[0mset_title\u001b[0m\u001b[0;34m(\u001b[0m\u001b[0;34mf'{neighbourhood[i]}. Avg price: ${avg}'\u001b[0m\u001b[0;34m,\u001b[0m \u001b[0mfontsize\u001b[0m\u001b[0;34m=\u001b[0m\u001b[0mfontsize\u001b[0m\u001b[0;34m)\u001b[0m\u001b[0;34m\u001b[0m\u001b[0;34m\u001b[0m\u001b[0m\n\u001b[0m\u001b[1;32m     15\u001b[0m     \u001b[0max\u001b[0m\u001b[0;34m.\u001b[0m\u001b[0mset_ylabel\u001b[0m\u001b[0;34m(\u001b[0m\u001b[0;34m'Count'\u001b[0m\u001b[0;34m,\u001b[0m \u001b[0mfontsize\u001b[0m\u001b[0;34m=\u001b[0m\u001b[0mfontsize_labels\u001b[0m\u001b[0;34m)\u001b[0m\u001b[0;34m\u001b[0m\u001b[0;34m\u001b[0m\u001b[0m\n\u001b[1;32m     16\u001b[0m \u001b[0;34m\u001b[0m\u001b[0m\n",
      "\u001b[0;31mNameError\u001b[0m: name 'fontsize' is not defined"
     ]
    },
    {
     "data": {
      "image/png": "[encoded data removed]",
      "text/plain": [
       "<Figure size 1008x720 with 5 Axes>"
      ]
     },
     "metadata": {
      "needs_background": "light"
     },
     "output_type": "display_data"
    }
   ],
   "source": [
    "# Break down by neighbourhood:\n",
    "\n",
    "fig, (ax1, ax2, ax3, ax4, ax5) = plt.subplots(5, 1, figsize=(14, 10), sharex=True)\n",
    "\n",
    "axes = [ax1, ax2, ax3, ax4, ax5]\n",
    "neighbourhood = ['Manhattan', 'Brooklyn', 'Queens', 'Staten Island', 'Bronx']\n",
    "\n",
    "for i, ax in enumerate(axes):\n",
    "    values = df[df['neighbourhood'] == neighbourhood[i]]['price']\n",
    "    avg = round(values.mean(), 1)\n",
    "    ax.hist(values, bins=range(0, max(df['price']), 20))\n",
    "    ax.spines['top'].set_visible(False)\n",
    "    ax.spines['right'].set_visible(False)\n",
    "    ax.set_title(f'{neighbourhood[i]}. Avg price: ${avg}', fontsize=fontsize)\n",
    "    ax.set_ylabel('Count', fontsize=fontsize_labels)\n",
    "\n",
    "ax.set_xlabel('Price ($)', fontsize=fontsize_labels)\n",
    "\n",
    "plt.tight_layout()\n",
    "plt.show()"
   ]
  },
  {
   "cell_type": "code",
   "execution_count": null,
   "id": "surface-proceeding",
   "metadata": {},
   "outputs": [],
   "source": [
    "# Create a categorical price column:\n",
    "\n",
    "df['category'] = pd.cut(df['price'], bins=[10, 90, 180, 400, np.inf], labels=[0, 1, 2, 3])\n",
    "df.head()"
   ]
  },
  {
   "cell_type": "code",
   "execution_count": null,
   "id": "dutch-accountability",
   "metadata": {},
   "outputs": [],
   "source": [
    "df['category'].value_counts()"
   ]
  },
  {
   "cell_type": "markdown",
   "id": "negative-consciousness",
   "metadata": {},
   "source": [
    "### Extract column information for amenities"
   ]
  },
  {
   "cell_type": "code",
   "execution_count": null,
   "id": "eleven-traveler",
   "metadata": {},
   "outputs": [],
   "source": [
    "def preprocess_amenities_column(df: DataFrame) -> DataFrame:\n",
    "    \n",
    "    df['TV'] = df['amenities'].str.contains('TV')\n",
    "    df['TV'] = df['TV'].astype(int)\n",
    "    df['Internet'] = df['amenities'].str.contains('Internet')\n",
    "    df['Internet'] = df['Internet'].astype(int)\n",
    "    df['Air_conditioning'] = df['amenities'].str.contains('Air conditioning')\n",
    "    df['Air_conditioning'] = df['Air_conditioning'].astype(int)\n",
    "    df['Kitchen'] = df['amenities'].str.contains('Kitchen')\n",
    "    df['Kitchen'] = df['Kitchen'].astype(int)\n",
    "    df['Heating'] = df['amenities'].str.contains('Heating')\n",
    "    df['Heating'] = df['Heating'].astype(int)\n",
    "    df['Wifi'] = df['amenities'].str.contains('Wifi')\n",
    "    df['Wifi'] = df['Wifi'].astype(int)\n",
    "    df['Elevator'] = df['amenities'].str.contains('Elevator')\n",
    "    df['Elevator'] = df['Elevator'].astype(int)\n",
    "    df['Breakfast'] = df['amenities'].str.contains('Breakfast')\n",
    "    df['Breakfast'] = df['Breakfast'].astype(int)\n",
    "\n",
    "    df.drop('amenities', axis=1, inplace=True)\n",
    "    \n",
    "    return df\n",
    "\n",
    "\n",
    "df = preprocess_amenities_column(df)\n",
    "df.head()"
   ]
  }
 ],
 "metadata": {
  "kernelspec": {
   "display_name": "Python 3",
   "language": "python",
   "name": "python3"
  },
  "language_info": {
   "codemirror_mode": {
    "name": "ipython",
    "version": 3
   },
   "file_extension": ".py",
   "mimetype": "text/x-python",
   "name": "python",
   "nbconvert_exporter": "python",
   "pygments_lexer": "ipython3",
   "version": "3.7.5"
  }
 },
 "nbformat": 4,
 "nbformat_minor": 5
}
