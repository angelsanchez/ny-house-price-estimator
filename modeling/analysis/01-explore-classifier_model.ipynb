{
 "cells": [
  {
   "cell_type": "markdown",
   "id": "constant-contents",
   "metadata": {},
   "source": [
    "# Classifier model exploration"
   ]
  },
  {
   "cell_type": "code",
   "execution_count": 1,
   "id": "mobile-census",
   "metadata": {},
   "outputs": [],
   "source": [
    "import os\n",
    "from pathlib import Path\n",
    "\n",
    "from matplotlib import pyplot as plt\n",
    "import numpy as np\n",
    "import pandas as pd\n",
    "from pandas import DataFrame\n",
    "import seaborn as sns\n",
    "from sklearn.model_selection import train_test_split\n",
    "from sklearn.ensemble import RandomForestClassifier\n",
    "from sklearn.metrics import accuracy_score\n",
    "from sklearn.metrics import classification_report, confusion_matrix"
   ]
  },
  {
   "cell_type": "markdown",
   "id": "informative-group",
   "metadata": {},
   "source": [
    "## Access processed data"
   ]
  },
  {
   "cell_type": "code",
   "execution_count": 2,
   "id": "alpine-departure",
   "metadata": {},
   "outputs": [
    {
     "data": {
      "text/plain": [
       "['listings_processed.csv']"
      ]
     },
     "execution_count": 2,
     "metadata": {},
     "output_type": "execute_result"
    }
   ],
   "source": [
    "DIR_REPO = Path.cwd().parent.parent\n",
    "DIR_MINIO = DIR_REPO.parent.parent / \"shared-storage\" / \"ny-price-estimator\"\n",
    "DIR_DATA = DIR_MINIO / \"data\"\n",
    "DIR_DATA_RAW = Path(DIR_DATA) / \"base\"\n",
    "DIR_DATA_PROCESSED = Path(DIR_DATA) / \"created\"\n",
    "\n",
    "os.listdir(DIR_DATA_PROCESSED)"
   ]
  },
  {
   "cell_type": "code",
   "execution_count": 3,
   "id": "independent-ending",
   "metadata": {},
   "outputs": [],
   "source": [
    "FILEPATH_PROCESSED = DIR_DATA_PROCESSED / \"listings_processed.csv\""
   ]
  },
  {
   "cell_type": "code",
   "execution_count": 4,
   "id": "selected-forest",
   "metadata": {},
   "outputs": [
    {
     "data": {
      "text/html": [
       "<div>\n",
       "<style scoped>\n",
       "    .dataframe tbody tr th:only-of-type {\n",
       "        vertical-align: middle;\n",
       "    }\n",
       "\n",
       "    .dataframe tbody tr th {\n",
       "        vertical-align: top;\n",
       "    }\n",
       "\n",
       "    .dataframe thead th {\n",
       "        text-align: right;\n",
       "    }\n",
       "</style>\n",
       "<table border=\"1\" class=\"dataframe\">\n",
       "  <thead>\n",
       "    <tr style=\"text-align: right;\">\n",
       "      <th></th>\n",
       "      <th>id</th>\n",
       "      <th>neighbourhood</th>\n",
       "      <th>property_type</th>\n",
       "      <th>room_type</th>\n",
       "      <th>zipcode</th>\n",
       "      <th>latitude</th>\n",
       "      <th>longitude</th>\n",
       "      <th>accommodates</th>\n",
       "      <th>bathrooms</th>\n",
       "      <th>bedrooms</th>\n",
       "      <th>...</th>\n",
       "      <th>price</th>\n",
       "      <th>category</th>\n",
       "      <th>TV</th>\n",
       "      <th>Internet</th>\n",
       "      <th>Air_conditioning</th>\n",
       "      <th>Kitchen</th>\n",
       "      <th>Heating</th>\n",
       "      <th>Wifi</th>\n",
       "      <th>Elevator</th>\n",
       "      <th>Breakfast</th>\n",
       "    </tr>\n",
       "  </thead>\n",
       "  <tbody>\n",
       "    <tr>\n",
       "      <th>0</th>\n",
       "      <td>15509</td>\n",
       "      <td>Brooklyn</td>\n",
       "      <td>Apartment</td>\n",
       "      <td>Private room</td>\n",
       "      <td>11221</td>\n",
       "      <td>40.685384</td>\n",
       "      <td>-73.932709</td>\n",
       "      <td>2</td>\n",
       "      <td>NaN</td>\n",
       "      <td>1.0</td>\n",
       "      <td>...</td>\n",
       "      <td>59</td>\n",
       "      <td>0.0</td>\n",
       "      <td>1</td>\n",
       "      <td>0</td>\n",
       "      <td>0</td>\n",
       "      <td>1</td>\n",
       "      <td>1</td>\n",
       "      <td>1</td>\n",
       "      <td>0</td>\n",
       "      <td>0</td>\n",
       "    </tr>\n",
       "    <tr>\n",
       "      <th>1</th>\n",
       "      <td>2515</td>\n",
       "      <td>Manhattan</td>\n",
       "      <td>Apartment</td>\n",
       "      <td>Private room</td>\n",
       "      <td>10026</td>\n",
       "      <td>40.799205</td>\n",
       "      <td>-73.953676</td>\n",
       "      <td>3</td>\n",
       "      <td>1.0</td>\n",
       "      <td>1.0</td>\n",
       "      <td>...</td>\n",
       "      <td>59</td>\n",
       "      <td>0.0</td>\n",
       "      <td>1</td>\n",
       "      <td>1</td>\n",
       "      <td>1</td>\n",
       "      <td>1</td>\n",
       "      <td>1</td>\n",
       "      <td>1</td>\n",
       "      <td>0</td>\n",
       "      <td>0</td>\n",
       "    </tr>\n",
       "    <tr>\n",
       "      <th>2</th>\n",
       "      <td>2539</td>\n",
       "      <td>Brooklyn</td>\n",
       "      <td>Apartment</td>\n",
       "      <td>Private room</td>\n",
       "      <td>11218</td>\n",
       "      <td>40.647486</td>\n",
       "      <td>-73.972370</td>\n",
       "      <td>4</td>\n",
       "      <td>1.0</td>\n",
       "      <td>1.0</td>\n",
       "      <td>...</td>\n",
       "      <td>149</td>\n",
       "      <td>1.0</td>\n",
       "      <td>1</td>\n",
       "      <td>1</td>\n",
       "      <td>0</td>\n",
       "      <td>1</td>\n",
       "      <td>1</td>\n",
       "      <td>1</td>\n",
       "      <td>1</td>\n",
       "      <td>0</td>\n",
       "    </tr>\n",
       "    <tr>\n",
       "      <th>3</th>\n",
       "      <td>2595</td>\n",
       "      <td>Manhattan</td>\n",
       "      <td>Apartment</td>\n",
       "      <td>Entire home/apt</td>\n",
       "      <td>10018</td>\n",
       "      <td>40.753621</td>\n",
       "      <td>-73.983774</td>\n",
       "      <td>2</td>\n",
       "      <td>1.0</td>\n",
       "      <td>0.0</td>\n",
       "      <td>...</td>\n",
       "      <td>225</td>\n",
       "      <td>2.0</td>\n",
       "      <td>1</td>\n",
       "      <td>0</td>\n",
       "      <td>1</td>\n",
       "      <td>1</td>\n",
       "      <td>1</td>\n",
       "      <td>1</td>\n",
       "      <td>0</td>\n",
       "      <td>0</td>\n",
       "    </tr>\n",
       "    <tr>\n",
       "      <th>4</th>\n",
       "      <td>15729</td>\n",
       "      <td>Brooklyn</td>\n",
       "      <td>House</td>\n",
       "      <td>Private room</td>\n",
       "      <td>11231</td>\n",
       "      <td>40.676947</td>\n",
       "      <td>-74.011209</td>\n",
       "      <td>4</td>\n",
       "      <td>1.0</td>\n",
       "      <td>1.0</td>\n",
       "      <td>...</td>\n",
       "      <td>89</td>\n",
       "      <td>0.0</td>\n",
       "      <td>0</td>\n",
       "      <td>0</td>\n",
       "      <td>1</td>\n",
       "      <td>1</td>\n",
       "      <td>1</td>\n",
       "      <td>1</td>\n",
       "      <td>0</td>\n",
       "      <td>0</td>\n",
       "    </tr>\n",
       "  </tbody>\n",
       "</table>\n",
       "<p>5 rows × 22 columns</p>\n",
       "</div>"
      ],
      "text/plain": [
       "      id neighbourhood property_type        room_type zipcode   latitude  \\\n",
       "0  15509      Brooklyn     Apartment     Private room   11221  40.685384   \n",
       "1   2515     Manhattan     Apartment     Private room   10026  40.799205   \n",
       "2   2539      Brooklyn     Apartment     Private room   11218  40.647486   \n",
       "3   2595     Manhattan     Apartment  Entire home/apt   10018  40.753621   \n",
       "4  15729      Brooklyn         House     Private room   11231  40.676947   \n",
       "\n",
       "   longitude  accommodates  bathrooms  bedrooms  ...  price category  TV  \\\n",
       "0 -73.932709             2        NaN       1.0  ...     59      0.0   1   \n",
       "1 -73.953676             3        1.0       1.0  ...     59      0.0   1   \n",
       "2 -73.972370             4        1.0       1.0  ...    149      1.0   1   \n",
       "3 -73.983774             2        1.0       0.0  ...    225      2.0   1   \n",
       "4 -74.011209             4        1.0       1.0  ...     89      0.0   0   \n",
       "\n",
       "   Internet  Air_conditioning  Kitchen  Heating  Wifi  Elevator  Breakfast  \n",
       "0         0                 0        1        1     1         0          0  \n",
       "1         1                 1        1        1     1         0          0  \n",
       "2         1                 0        1        1     1         1          0  \n",
       "3         0                 1        1        1     1         0          0  \n",
       "4         0                 1        1        1     1         0          0  \n",
       "\n",
       "[5 rows x 22 columns]"
      ]
     },
     "execution_count": 4,
     "metadata": {},
     "output_type": "execute_result"
    }
   ],
   "source": [
    "df = pd.read_csv(FILEPATH_PROCESSED, index_col=0)\n",
    "df.head()"
   ]
  },
  {
   "cell_type": "markdown",
   "id": "normal-legislature",
   "metadata": {},
   "source": [
    "## Further processing of categorical variables"
   ]
  },
  {
   "cell_type": "code",
   "execution_count": 5,
   "id": "waiting-publicity",
   "metadata": {},
   "outputs": [],
   "source": [
    "df = df.dropna(axis=0)"
   ]
  },
  {
   "cell_type": "code",
   "execution_count": 6,
   "id": "challenging-brighton",
   "metadata": {},
   "outputs": [],
   "source": [
    "room2cat = {'Shared room': 1,\n",
    "              'Private room': 2,\n",
    "              'Entire home/apt': 3,\n",
    "              'Hotel room': 4}\n",
    "cat2room = {value: key for key, value in room2cat.items()}\n",
    "\n",
    "df['room_type'] = df['room_type'].map(room2cat)"
   ]
  },
  {
   "cell_type": "code",
   "execution_count": 7,
   "id": "floppy-bahrain",
   "metadata": {},
   "outputs": [],
   "source": [
    "neigh2cat = {'Bronx': 1,\n",
    "              'Queens': 2,\n",
    "              'Staten Island': 3,\n",
    "              'Brooklyn': 4,\n",
    "              'Manhattan': 5}\n",
    "cat2neigh = {value: key for key, value in neigh2cat.items()}\n",
    "\n",
    "df['neighbourhood'] = df['neighbourhood'].map(neigh2cat)"
   ]
  },
  {
   "cell_type": "code",
   "execution_count": 8,
   "id": "linear-grounds",
   "metadata": {},
   "outputs": [
    {
     "data": {
      "text/html": [
       "<div>\n",
       "<style scoped>\n",
       "    .dataframe tbody tr th:only-of-type {\n",
       "        vertical-align: middle;\n",
       "    }\n",
       "\n",
       "    .dataframe tbody tr th {\n",
       "        vertical-align: top;\n",
       "    }\n",
       "\n",
       "    .dataframe thead th {\n",
       "        text-align: right;\n",
       "    }\n",
       "</style>\n",
       "<table border=\"1\" class=\"dataframe\">\n",
       "  <thead>\n",
       "    <tr style=\"text-align: right;\">\n",
       "      <th></th>\n",
       "      <th>id</th>\n",
       "      <th>neighbourhood</th>\n",
       "      <th>property_type</th>\n",
       "      <th>room_type</th>\n",
       "      <th>zipcode</th>\n",
       "      <th>latitude</th>\n",
       "      <th>longitude</th>\n",
       "      <th>accommodates</th>\n",
       "      <th>bathrooms</th>\n",
       "      <th>bedrooms</th>\n",
       "      <th>...</th>\n",
       "      <th>price</th>\n",
       "      <th>category</th>\n",
       "      <th>TV</th>\n",
       "      <th>Internet</th>\n",
       "      <th>Air_conditioning</th>\n",
       "      <th>Kitchen</th>\n",
       "      <th>Heating</th>\n",
       "      <th>Wifi</th>\n",
       "      <th>Elevator</th>\n",
       "      <th>Breakfast</th>\n",
       "    </tr>\n",
       "  </thead>\n",
       "  <tbody>\n",
       "    <tr>\n",
       "      <th>1</th>\n",
       "      <td>2515</td>\n",
       "      <td>5</td>\n",
       "      <td>Apartment</td>\n",
       "      <td>2</td>\n",
       "      <td>10026</td>\n",
       "      <td>40.799205</td>\n",
       "      <td>-73.953676</td>\n",
       "      <td>3</td>\n",
       "      <td>1.0</td>\n",
       "      <td>1.0</td>\n",
       "      <td>...</td>\n",
       "      <td>59</td>\n",
       "      <td>0.0</td>\n",
       "      <td>1</td>\n",
       "      <td>1</td>\n",
       "      <td>1</td>\n",
       "      <td>1</td>\n",
       "      <td>1</td>\n",
       "      <td>1</td>\n",
       "      <td>0</td>\n",
       "      <td>0</td>\n",
       "    </tr>\n",
       "    <tr>\n",
       "      <th>2</th>\n",
       "      <td>2539</td>\n",
       "      <td>4</td>\n",
       "      <td>Apartment</td>\n",
       "      <td>2</td>\n",
       "      <td>11218</td>\n",
       "      <td>40.647486</td>\n",
       "      <td>-73.972370</td>\n",
       "      <td>4</td>\n",
       "      <td>1.0</td>\n",
       "      <td>1.0</td>\n",
       "      <td>...</td>\n",
       "      <td>149</td>\n",
       "      <td>1.0</td>\n",
       "      <td>1</td>\n",
       "      <td>1</td>\n",
       "      <td>0</td>\n",
       "      <td>1</td>\n",
       "      <td>1</td>\n",
       "      <td>1</td>\n",
       "      <td>1</td>\n",
       "      <td>0</td>\n",
       "    </tr>\n",
       "    <tr>\n",
       "      <th>3</th>\n",
       "      <td>2595</td>\n",
       "      <td>5</td>\n",
       "      <td>Apartment</td>\n",
       "      <td>3</td>\n",
       "      <td>10018</td>\n",
       "      <td>40.753621</td>\n",
       "      <td>-73.983774</td>\n",
       "      <td>2</td>\n",
       "      <td>1.0</td>\n",
       "      <td>0.0</td>\n",
       "      <td>...</td>\n",
       "      <td>225</td>\n",
       "      <td>2.0</td>\n",
       "      <td>1</td>\n",
       "      <td>0</td>\n",
       "      <td>1</td>\n",
       "      <td>1</td>\n",
       "      <td>1</td>\n",
       "      <td>1</td>\n",
       "      <td>0</td>\n",
       "      <td>0</td>\n",
       "    </tr>\n",
       "    <tr>\n",
       "      <th>4</th>\n",
       "      <td>15729</td>\n",
       "      <td>4</td>\n",
       "      <td>House</td>\n",
       "      <td>2</td>\n",
       "      <td>11231</td>\n",
       "      <td>40.676947</td>\n",
       "      <td>-74.011209</td>\n",
       "      <td>4</td>\n",
       "      <td>1.0</td>\n",
       "      <td>1.0</td>\n",
       "      <td>...</td>\n",
       "      <td>89</td>\n",
       "      <td>0.0</td>\n",
       "      <td>0</td>\n",
       "      <td>0</td>\n",
       "      <td>1</td>\n",
       "      <td>1</td>\n",
       "      <td>1</td>\n",
       "      <td>1</td>\n",
       "      <td>0</td>\n",
       "      <td>0</td>\n",
       "    </tr>\n",
       "    <tr>\n",
       "      <th>5</th>\n",
       "      <td>3330</td>\n",
       "      <td>4</td>\n",
       "      <td>Apartment</td>\n",
       "      <td>2</td>\n",
       "      <td>11206</td>\n",
       "      <td>40.708558</td>\n",
       "      <td>-73.942362</td>\n",
       "      <td>2</td>\n",
       "      <td>1.0</td>\n",
       "      <td>1.0</td>\n",
       "      <td>...</td>\n",
       "      <td>70</td>\n",
       "      <td>0.0</td>\n",
       "      <td>1</td>\n",
       "      <td>1</td>\n",
       "      <td>0</td>\n",
       "      <td>1</td>\n",
       "      <td>1</td>\n",
       "      <td>1</td>\n",
       "      <td>1</td>\n",
       "      <td>0</td>\n",
       "    </tr>\n",
       "  </tbody>\n",
       "</table>\n",
       "<p>5 rows × 22 columns</p>\n",
       "</div>"
      ],
      "text/plain": [
       "      id  neighbourhood property_type  room_type zipcode   latitude  \\\n",
       "1   2515              5     Apartment          2   10026  40.799205   \n",
       "2   2539              4     Apartment          2   11218  40.647486   \n",
       "3   2595              5     Apartment          3   10018  40.753621   \n",
       "4  15729              4         House          2   11231  40.676947   \n",
       "5   3330              4     Apartment          2   11206  40.708558   \n",
       "\n",
       "   longitude  accommodates  bathrooms  bedrooms  ...  price category  TV  \\\n",
       "1 -73.953676             3        1.0       1.0  ...     59      0.0   1   \n",
       "2 -73.972370             4        1.0       1.0  ...    149      1.0   1   \n",
       "3 -73.983774             2        1.0       0.0  ...    225      2.0   1   \n",
       "4 -74.011209             4        1.0       1.0  ...     89      0.0   0   \n",
       "5 -73.942362             2        1.0       1.0  ...     70      0.0   1   \n",
       "\n",
       "   Internet  Air_conditioning  Kitchen  Heating  Wifi  Elevator  Breakfast  \n",
       "1         1                 1        1        1     1         0          0  \n",
       "2         1                 0        1        1     1         1          0  \n",
       "3         0                 1        1        1     1         0          0  \n",
       "4         0                 1        1        1     1         0          0  \n",
       "5         1                 0        1        1     1         1          0  \n",
       "\n",
       "[5 rows x 22 columns]"
      ]
     },
     "execution_count": 8,
     "metadata": {},
     "output_type": "execute_result"
    }
   ],
   "source": [
    "df.head()"
   ]
  },
  {
   "cell_type": "code",
   "execution_count": 9,
   "id": "convenient-adelaide",
   "metadata": {},
   "outputs": [
    {
     "data": {
      "text/plain": [
       "Index(['id', 'neighbourhood', 'property_type', 'room_type', 'zipcode',\n",
       "       'latitude', 'longitude', 'accommodates', 'bathrooms', 'bedrooms',\n",
       "       'beds', 'bed_type', 'price', 'category', 'TV', 'Internet',\n",
       "       'Air_conditioning', 'Kitchen', 'Heating', 'Wifi', 'Elevator',\n",
       "       'Breakfast'],\n",
       "      dtype='object')"
      ]
     },
     "execution_count": 9,
     "metadata": {},
     "output_type": "execute_result"
    }
   ],
   "source": [
    "df.columns"
   ]
  },
  {
   "cell_type": "code",
   "execution_count": 10,
   "id": "distributed-fancy",
   "metadata": {},
   "outputs": [],
   "source": [
    "FEATURE_NAMES = ['neighbourhood', 'room_type', 'accommodates', 'bathrooms', 'bedrooms']\n",
    "\n",
    "X = df[FEATURE_NAMES]\n",
    "y = df['category']"
   ]
  },
  {
   "cell_type": "markdown",
   "id": "listed-justice",
   "metadata": {},
   "source": [
    "## Split data for cross-validation"
   ]
  },
  {
   "cell_type": "code",
   "execution_count": 11,
   "id": "mediterranean-southwest",
   "metadata": {},
   "outputs": [],
   "source": [
    "X_train, X_test, y_train, y_test = train_test_split(X, y, test_size=0.15, random_state=1)"
   ]
  },
  {
   "cell_type": "markdown",
   "id": "helpful-chambers",
   "metadata": {},
   "source": [
    "## A simple classifier model"
   ]
  },
  {
   "cell_type": "markdown",
   "id": "mounted-intervention",
   "metadata": {},
   "source": [
    "### Train the model"
   ]
  },
  {
   "cell_type": "code",
   "execution_count": 12,
   "id": "dried-england",
   "metadata": {},
   "outputs": [
    {
     "data": {
      "text/plain": [
       "RandomForestClassifier(n_estimators=120, random_state=0)"
      ]
     },
     "execution_count": 12,
     "metadata": {},
     "output_type": "execute_result"
    }
   ],
   "source": [
    "clf = RandomForestClassifier(n_estimators=120, random_state=0)\n",
    "clf.fit(X_train, y_train)"
   ]
  },
  {
   "cell_type": "markdown",
   "id": "geographic-playlist",
   "metadata": {},
   "source": [
    "### Evaluate the model"
   ]
  },
  {
   "cell_type": "code",
   "execution_count": 13,
   "id": "quality-religious",
   "metadata": {},
   "outputs": [],
   "source": [
    "y_pred = clf.predict(X_test)"
   ]
  },
  {
   "cell_type": "code",
   "execution_count": 14,
   "id": "animal-canyon",
   "metadata": {},
   "outputs": [
    {
     "data": {
      "text/plain": [
       "0.6708266237251744"
      ]
     },
     "execution_count": 14,
     "metadata": {},
     "output_type": "execute_result"
    }
   ],
   "source": [
    "accuracy_score(y_test, y_pred)"
   ]
  },
  {
   "cell_type": "code",
   "execution_count": 15,
   "id": "lesser-conjunction",
   "metadata": {},
   "outputs": [
    {
     "data": {
      "text/plain": [
       "Text(0.5, 0, 'Feature importance')"
      ]
     },
     "execution_count": 15,
     "metadata": {},
     "output_type": "execute_result"
    },
    {
     "data": {
      "image/png": "[encoded data removed]",
      "text/plain": [
       "<Figure size 864x504 with 1 Axes>"
      ]
     },
     "metadata": {
      "needs_background": "light"
     },
     "output_type": "display_data"
    }
   ],
   "source": [
    "importances = clf.feature_importances_\n",
    "indices = np.argsort(importances)[::-1]\n",
    "features = X_train.columns[indices]\n",
    "importances = importances[indices]\n",
    "\n",
    "fig, ax = plt.subplots(figsize=(12, 7))\n",
    "plt.barh(range(len(importances)), importances)\n",
    "plt.yticks(range(len(importances)), features, fontsize=12)\n",
    "ax.invert_yaxis()\n",
    "ax.set_xlabel(\"Feature importance\", fontsize=12)"
   ]
  },
  {
   "cell_type": "code",
   "execution_count": 16,
   "id": "collected-singing",
   "metadata": {},
   "outputs": [
    {
     "data": {
      "text/plain": [
       "Text(0.5, 1.0, 'Simple model')"
      ]
     },
     "execution_count": 16,
     "metadata": {},
     "output_type": "execute_result"
    },
    {
     "data": {
      "image/png": "[encoded data removed]",
      "text/plain": [
       "<Figure size 720x720 with 1 Axes>"
      ]
     },
     "metadata": {
      "needs_background": "light"
     },
     "output_type": "display_data"
    }
   ],
   "source": [
    "classes = [0, 1, 2, 3]\n",
    "labels = ['low', 'mid', 'high', 'lux']\n",
    "\n",
    "c = confusion_matrix(y_test, y_pred)\n",
    "c = c / c.sum(axis=1).reshape(len(classes), 1)\n",
    "\n",
    "# Plot\n",
    "fig, ax = plt.subplots(figsize=(10, 10))\n",
    "sns.heatmap(c, annot=True, cmap='BuGn', square=True, fmt='.2f', annot_kws={'size': 10}, cbar=False)\n",
    "plt.xlabel('Predicted', fontsize=16)\n",
    "plt.ylabel('Real', fontsize=16)\n",
    "plt.xticks(ticks=np.arange(.5, len(classes)), labels=labels, rotation=0, fontsize=12)\n",
    "plt.yticks(ticks=np.arange(.5, len(classes)), labels=labels, rotation=0, fontsize=12)\n",
    "\n",
    "plt.title(\"Simple model\", fontsize=18)\n",
    "plt.show()"
   ]
  },
  {
   "cell_type": "code",
   "execution_count": 32,
   "id": "extensive-stamp",
   "metadata": {},
   "outputs": [
    {
     "data": {
      "text/html": [
       "<div>\n",
       "<style scoped>\n",
       "    .dataframe tbody tr th:only-of-type {\n",
       "        vertical-align: middle;\n",
       "    }\n",
       "\n",
       "    .dataframe tbody tr th {\n",
       "        vertical-align: top;\n",
       "    }\n",
       "\n",
       "    .dataframe thead th {\n",
       "        text-align: right;\n",
       "    }\n",
       "</style>\n",
       "<table border=\"1\" class=\"dataframe\">\n",
       "  <thead>\n",
       "    <tr style=\"text-align: right;\">\n",
       "      <th></th>\n",
       "      <th>precision</th>\n",
       "      <th>recall</th>\n",
       "      <th>f1-score</th>\n",
       "      <th>support</th>\n",
       "    </tr>\n",
       "  </thead>\n",
       "  <tbody>\n",
       "    <tr>\n",
       "      <th>0.0</th>\n",
       "      <td>0.755996</td>\n",
       "      <td>0.880195</td>\n",
       "      <td>0.813381</td>\n",
       "      <td>3080.0</td>\n",
       "    </tr>\n",
       "    <tr>\n",
       "      <th>1.0</th>\n",
       "      <td>0.596076</td>\n",
       "      <td>0.599628</td>\n",
       "      <td>0.597846</td>\n",
       "      <td>2685.0</td>\n",
       "    </tr>\n",
       "    <tr>\n",
       "      <th>2.0</th>\n",
       "      <td>0.582788</td>\n",
       "      <td>0.426420</td>\n",
       "      <td>0.492490</td>\n",
       "      <td>1461.0</td>\n",
       "    </tr>\n",
       "    <tr>\n",
       "      <th>3.0</th>\n",
       "      <td>0.572917</td>\n",
       "      <td>0.243363</td>\n",
       "      <td>0.341615</td>\n",
       "      <td>226.0</td>\n",
       "    </tr>\n",
       "  </tbody>\n",
       "</table>\n",
       "</div>"
      ],
      "text/plain": [
       "     precision    recall  f1-score  support\n",
       "0.0   0.755996  0.880195  0.813381   3080.0\n",
       "1.0   0.596076  0.599628  0.597846   2685.0\n",
       "2.0   0.582788  0.426420  0.492490   1461.0\n",
       "3.0   0.572917  0.243363  0.341615    226.0"
      ]
     },
     "execution_count": 32,
     "metadata": {},
     "output_type": "execute_result"
    }
   ],
   "source": [
    "maps = {'0.0': 'low', '1.0': 'mid', '2.0': 'high', '3.0': 'lux'}\n",
    "\n",
    "report = classification_report(y_test, y_pred, output_dict=True)\n",
    "df_report = pd.DataFrame.from_dict(report).T[:-3]\n",
    "df_report.index = [maps[i] for i in df_report.index]\n",
    "df_report"
   ]
  },
  {
   "cell_type": "code",
   "execution_count": 21,
   "id": "interesting-climate",
   "metadata": {},
   "outputs": [
    {
     "data": {
      "image/png": "[encoded data removed]",
      "text/plain": [
       "<Figure size 1152x504 with 3 Axes>"
      ]
     },
     "metadata": {
      "needs_background": "light"
     },
     "output_type": "display_data"
    }
   ],
   "source": [
    "metrics = ['precision', 'recall', 'support']\n",
    "\n",
    "fig, axes = plt.subplots(1, len(metrics), figsize=(16, 7))\n",
    "\n",
    "for i, ax in enumerate(axes):\n",
    "\n",
    "    ax.barh(df_report.index, df_report[metrics[i]], alpha=0.9)\n",
    "    ax.tick_params(axis='both', which='major', labelsize=12)\n",
    "    ax.set_xlabel(metrics[i], fontsize=12)\n",
    "    ax.invert_yaxis()\n",
    "    ax.spines['top'].set_visible(False)\n",
    "    ax.spines['right'].set_visible(False)\n",
    "\n",
    "plt.suptitle(\"Simple model\", fontsize=14)\n",
    "plt.show()"
   ]
  }
 ],
 "metadata": {
  "kernelspec": {
   "display_name": "Python 3",
   "language": "python",
   "name": "python3"
  },
  "language_info": {
   "codemirror_mode": {
    "name": "ipython",
    "version": 3
   },
   "file_extension": ".py",
   "mimetype": "text/x-python",
   "name": "python",
   "nbconvert_exporter": "python",
   "pygments_lexer": "ipython3",
   "version": "3.7.5"
  }
 },
 "nbformat": 4,
 "nbformat_minor": 5
}
